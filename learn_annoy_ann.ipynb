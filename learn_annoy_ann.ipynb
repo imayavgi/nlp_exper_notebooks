{
 "cells": [
  {
   "cell_type": "code",
   "execution_count": 1,
   "id": "joint-adoption",
   "metadata": {},
   "outputs": [],
   "source": [
    "import gensim.downloader as api"
   ]
  },
  {
   "cell_type": "code",
   "execution_count": 2,
   "id": "thick-tournament",
   "metadata": {},
   "outputs": [
    {
     "name": "stdout",
     "output_type": "stream",
     "text": [
      "Using corpus from /Users/imayak/gensim-data/text8/text8.gz\n"
     ]
    }
   ],
   "source": [
    "text8_path = api.load('text8', return_path=True)\n",
    "print(\"Using corpus from\", text8_path)"
   ]
  },
  {
   "cell_type": "code",
   "execution_count": 15,
   "id": "lesbian-decision",
   "metadata": {},
   "outputs": [
    {
     "name": "stdout",
     "output_type": "stream",
     "text": [
      "Using trained model <gensim.models.keyedvectors.Word2VecKeyedVectors object at 0x7f8a8626bdf0>\n"
     ]
    }
   ],
   "source": [
    "from gensim.models import Word2Vec, KeyedVectors\n",
    "from gensim.models.word2vec import Text8Corpus\n",
    "\n",
    "# Using params from Word2Vec_FastText_Comparison\n",
    "params = {\n",
    "    'alpha': 0.05,\n",
    "    'size': 100,\n",
    "    'window': 5,\n",
    "    'iter': 5,\n",
    "    'min_count': 5,\n",
    "    'sample': 1e-4,\n",
    "    'sg': 1,\n",
    "    'hs': 0,\n",
    "    'negative': 5,\n",
    "}\n",
    "model = Word2Vec(Text8Corpus(text8_path), **params)\n",
    "wv = model.wv\n",
    "print(\"Using trained model\", wv)"
   ]
  },
  {
   "cell_type": "code",
   "execution_count": 6,
   "id": "technological-insurance",
   "metadata": {},
   "outputs": [
    {
     "name": "stdout",
     "output_type": "stream",
     "text": [
      "Requirement already satisfied: annoy in /Users/imayak/exper/python_nlp_venv/lib/python3.8/site-packages (1.17.0)\n",
      "Requirement already satisfied: gensim in /Users/imayak/exper/python_nlp_venv/lib/python3.8/site-packages (3.8.3)\n",
      "Requirement already satisfied: smart-open>=1.8.1 in /Users/imayak/exper/python_nlp_venv/lib/python3.8/site-packages (from gensim) (4.1.2)\n",
      "Requirement already satisfied: scipy>=0.18.1 in /Users/imayak/exper/python_nlp_venv/lib/python3.8/site-packages (from gensim) (1.6.0)\n",
      "Requirement already satisfied: six>=1.5.0 in /Users/imayak/exper/python_nlp_venv/lib/python3.8/site-packages (from gensim) (1.15.0)\n",
      "Requirement already satisfied: numpy>=1.11.3 in /Users/imayak/exper/python_nlp_venv/lib/python3.8/site-packages (from gensim) (1.20.0)\n"
     ]
    }
   ],
   "source": [
    "!pip install annoy\n",
    "!pip install gensim"
   ]
  },
  {
   "cell_type": "code",
   "execution_count": 7,
   "id": "ongoing-algebra",
   "metadata": {},
   "outputs": [],
   "source": [
    "from gensim.similarities.index import AnnoyIndexer"
   ]
  },
  {
   "cell_type": "code",
   "execution_count": 8,
   "id": "upper-surfing",
   "metadata": {},
   "outputs": [
    {
     "name": "stderr",
     "output_type": "stream",
     "text": [
      "/Users/imayak/exper/python_nlp_venv/lib/python3.8/site-packages/gensim/similarities/index.py:198: FutureWarning: The default argument for metric will be removed in future version of Annoy. Please pass metric='angular' explicitly.\n",
      "  index = AnnoyIndex(num_features)\n"
     ]
    },
    {
     "name": "stdout",
     "output_type": "stream",
     "text": [
      "Approximate Neighbors\n",
      "('science', 1.0)\n",
      "('actuarial', 0.6106608510017395)\n",
      "('interdisciplinary', 0.6020962297916412)\n",
      "('astrobiology', 0.598374605178833)\n",
      "('scientific', 0.5858789682388306)\n",
      "('psychohistory', 0.5811305642127991)\n",
      "('multidisciplinary', 0.5804038345813751)\n",
      "('sciences', 0.5768157243728638)\n",
      "('humanities', 0.5753591656684875)\n",
      "('interdisciplinarity', 0.5725245475769043)\n",
      "('robotics', 0.569885641336441)\n",
      "\n",
      "Exact Neighbors\n",
      "('science', 0.9999999403953552)\n",
      "('fiction', 0.7593916058540344)\n",
      "('actuarial', 0.6968300342559814)\n",
      "('interdisciplinary', 0.6833452582359314)\n",
      "('astrobiology', 0.6773940920829773)\n",
      "('xenobiology', 0.6714037656784058)\n",
      "('technology', 0.6638299226760864)\n",
      "('scientific', 0.6570075750350952)\n",
      "('psychohistory', 0.6490969061851501)\n",
      "('multidisciplinary', 0.6478780508041382)\n",
      "('biostatistics', 0.6462464332580566)\n"
     ]
    }
   ],
   "source": [
    "\n",
    "# 100 trees are being used in this example\n",
    "annoy_index = AnnoyIndexer(model, 100)\n",
    "# Derive the vector for the word \"science\" in our model\n",
    "vector = wv[\"science\"]\n",
    "# The instance of AnnoyIndexer we just created is passed\n",
    "approximate_neighbors = wv.most_similar([vector], topn=11, indexer=annoy_index)\n",
    "# Neatly print the approximate_neighbors and their corresponding cosine similarity values\n",
    "print(\"Approximate Neighbors\")\n",
    "for neighbor in approximate_neighbors:\n",
    "    print(neighbor)\n",
    "\n",
    "normal_neighbors = wv.most_similar([vector], topn=11)\n",
    "print(\"\\nExact Neighbors\")\n",
    "for neighbor in normal_neighbors:\n",
    "    print(neighbor)"
   ]
  },
  {
   "cell_type": "code",
   "execution_count": 14,
   "id": "complete-marker",
   "metadata": {},
   "outputs": [
    {
     "name": "stdout",
     "output_type": "stream",
     "text": [
      "('science', 0.9998273665114539)\n",
      "('actuarial', 0.6106608510017395)\n",
      "('interdisciplinary', 0.6020962297916412)\n",
      "('astrobiology', 0.598374605178833)\n",
      "('scientific', 0.585878998041153)\n",
      "('psychohistory', 0.5811306238174438)\n",
      "('multidisciplinary', 0.5804038345813751)\n",
      "('sciences', 0.5768157243728638)\n",
      "('humanities', 0.5753591656684875)\n",
      "('interdisciplinarity', 0.5725245475769043)\n",
      "('robotics', 0.5698857009410858)\n"
     ]
    },
    {
     "name": "stderr",
     "output_type": "stream",
     "text": [
      "/Users/imayak/exper/python_nlp_venv/lib/python3.8/site-packages/gensim/similarities/index.py:168: FutureWarning: The default argument for metric will be removed in future version of Annoy. Please pass metric='angular' explicitly.\n",
      "  self.index = AnnoyIndex(d['f'])\n"
     ]
    },
    {
     "ename": "AssertionError",
     "evalue": "",
     "output_type": "error",
     "traceback": [
      "\u001b[0;31m---------------------------------------------------------------------------\u001b[0m",
      "\u001b[0;31mAssertionError\u001b[0m                            Traceback (most recent call last)",
      "\u001b[0;32m<ipython-input-14-534208d7a433>\u001b[0m in \u001b[0;36m<module>\u001b[0;34m\u001b[0m\n\u001b[1;32m     17\u001b[0m     \u001b[0mprint\u001b[0m\u001b[0;34m(\u001b[0m\u001b[0mneighbor\u001b[0m\u001b[0;34m)\u001b[0m\u001b[0;34m\u001b[0m\u001b[0;34m\u001b[0m\u001b[0m\n\u001b[1;32m     18\u001b[0m \u001b[0;34m\u001b[0m\u001b[0m\n\u001b[0;32m---> 19\u001b[0;31m \u001b[0;32massert\u001b[0m \u001b[0mapproximate_neighbors\u001b[0m \u001b[0;34m==\u001b[0m \u001b[0mapproximate_neighbors2\u001b[0m\u001b[0;34m\u001b[0m\u001b[0;34m\u001b[0m\u001b[0m\n\u001b[0m",
      "\u001b[0;31mAssertionError\u001b[0m: "
     ]
    }
   ],
   "source": [
    "fname = '/tmp/mymodel.index'\n",
    "\n",
    "# Persist index to disk\n",
    "annoy_index.save(fname)\n",
    "\n",
    "# Load index back\n",
    "import os.path\n",
    "if os.path.exists(fname):\n",
    "    annoy_index2 = AnnoyIndexer()\n",
    "    annoy_index2.load(fname)\n",
    "    annoy_index2.model = model\n",
    "\n",
    "# Results should be identical to above\n",
    "vector = wv[\"science\"]\n",
    "approximate_neighbors2 = wv.most_similar([vector], topn=11, indexer=annoy_index2)\n",
    "for neighbor in approximate_neighbors2:\n",
    "    print(neighbor)\n",
    "\n",
    "assert approximate_neighbors == approximate_neighbors2"
   ]
  },
  {
   "cell_type": "code",
   "execution_count": null,
   "id": "biological-uganda",
   "metadata": {},
   "outputs": [],
   "source": []
  }
 ],
 "metadata": {
  "kernelspec": {
   "display_name": "python_nlp_venv",
   "language": "python",
   "name": "python_nlp_venv"
  },
  "language_info": {
   "codemirror_mode": {
    "name": "ipython",
    "version": 3
   },
   "file_extension": ".py",
   "mimetype": "text/x-python",
   "name": "python",
   "nbconvert_exporter": "python",
   "pygments_lexer": "ipython3",
   "version": "3.8.3"
  }
 },
 "nbformat": 4,
 "nbformat_minor": 5
}
