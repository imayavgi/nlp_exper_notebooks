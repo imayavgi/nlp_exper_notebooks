{
 "cells": [
  {
   "cell_type": "code",
   "execution_count": 1,
   "id": "parental-importance",
   "metadata": {},
   "outputs": [],
   "source": [
    "from pprint import pprint as print\n",
    "from gensim.models.fasttext import FastText\n",
    "from gensim.test.utils import datapath"
   ]
  },
  {
   "cell_type": "code",
   "execution_count": 3,
   "id": "adjacent-enough",
   "metadata": {},
   "outputs": [
    {
     "data": {
      "text/plain": [
       "<gensim.models.fasttext.FastText at 0x7f9df681d5b0>"
      ]
     },
     "execution_count": 3,
     "metadata": {},
     "output_type": "execute_result"
    }
   ],
   "source": [
    "# Set file names for train and test data\n",
    "corpus_file = datapath('lee_background.cor')\n",
    "\n",
    "model = FastText()\n",
    "\n",
    "# build the vocabulary\n",
    "model.build_vocab(corpus_file=corpus_file)\n",
    "\n",
    "# train the model\n",
    "model.train(\n",
    "    corpus_file=corpus_file, epochs=model.epochs,\n",
    "    total_examples=model.corpus_count, total_words=model.corpus_total_words,\n",
    ")\n",
    "\n",
    "model"
   ]
  },
  {
   "cell_type": "code",
   "execution_count": 4,
   "id": "occasional-rugby",
   "metadata": {},
   "outputs": [
    {
     "name": "stdout",
     "output_type": "stream",
     "text": [
      "<gensim.models.fasttext.FastText object at 0x7f9df7119d90>\n"
     ]
    }
   ],
   "source": [
    "import tempfile\n",
    "import os\n",
    "with tempfile.NamedTemporaryFile(prefix='saved_model_gensim-', delete=False) as tmp:\n",
    "    model.save(tmp.name, separately=[])\n",
    "\n",
    "# Load back the same model.\n",
    "loaded_model = FastText.load(tmp.name)\n",
    "print(loaded_model)\n",
    "\n",
    "os.unlink(tmp.name) "
   ]
  },
  {
   "cell_type": "code",
   "execution_count": 5,
   "id": "alpine-accuracy",
   "metadata": {},
   "outputs": [
    {
     "data": {
      "text/plain": [
       "array([ 0.0973011 ,  0.00517128, -0.57716054,  0.48638076,  0.5979027 ,\n",
       "       -0.32409278, -0.18618268, -0.04724681,  0.427867  ,  0.33560318,\n",
       "       -0.6358703 , -0.01267187, -0.67254364,  0.40874088,  0.28371632,\n",
       "       -0.06194634, -0.19464429,  0.18543199,  0.2375762 , -0.3764149 ,\n",
       "       -0.23742256,  0.27508992, -0.38061222,  0.02016438, -0.830907  ,\n",
       "        0.73279977,  0.12025826,  0.17687908,  0.4092375 ,  0.00976644,\n",
       "       -0.6515009 ,  0.23667602,  0.08542841, -0.48412615,  0.46474135,\n",
       "        0.10934826, -0.1596423 , -0.06808913,  0.42136848,  0.21830851,\n",
       "       -0.006935  , -0.07148351,  0.3917107 , -0.06247039,  0.12542686,\n",
       "        0.18675023, -0.1289668 ,  0.21550137, -0.01863868, -0.3896914 ,\n",
       "       -0.5711087 , -0.5505149 ,  0.06679615,  0.01265201,  0.40068817,\n",
       "       -0.8012928 , -0.10916269, -0.18062775,  0.01295112, -0.02862011,\n",
       "        0.21304144, -0.12030745, -0.48913124, -0.09769551, -0.53607714,\n",
       "        0.35518447,  0.00664688,  0.15467149,  0.02895939,  0.47501132,\n",
       "       -0.56480813, -0.51475537, -0.00780156, -0.1120302 , -0.3398267 ,\n",
       "        0.03294049,  0.27276656,  0.10952832, -0.13988544,  0.18256137,\n",
       "        0.45324633,  0.05636517, -0.16721252,  0.4584301 , -0.393854  ,\n",
       "       -0.2586126 ,  0.12104038,  0.28821257,  0.32142144,  0.2972353 ,\n",
       "       -0.1766856 ,  0.12160571, -0.03780106, -0.19192955, -0.2735877 ,\n",
       "        0.56224865,  0.28188944,  0.44526413,  0.5541145 ,  0.4715158 ],\n",
       "      dtype=float32)"
      ]
     },
     "execution_count": 5,
     "metadata": {},
     "output_type": "execute_result"
    }
   ],
   "source": [
    "model.wv['night']"
   ]
  },
  {
   "cell_type": "code",
   "execution_count": 6,
   "id": "early-omega",
   "metadata": {},
   "outputs": [
    {
     "data": {
      "text/plain": [
       "0.9999927"
      ]
     },
     "execution_count": 6,
     "metadata": {},
     "output_type": "execute_result"
    }
   ],
   "source": [
    "model.wv.similarity(\"night\", \"nights\")"
   ]
  },
  {
   "cell_type": "code",
   "execution_count": 10,
   "id": "rising-lebanon",
   "metadata": {},
   "outputs": [
    {
     "data": {
      "text/plain": [
       "[('night', 0.9999927282333374),\n",
       " ('rights', 0.9999879598617554),\n",
       " ('flights', 0.9999872446060181),\n",
       " ('fighting', 0.9999866485595703),\n",
       " ('hearing', 0.9999865293502808),\n",
       " ('overnight', 0.9999862313270569),\n",
       " ('starting', 0.9999862313270569),\n",
       " ('expressed', 0.9999856352806091),\n",
       " ('fighter', 0.99998539686203),\n",
       " ('enter', 0.9999853372573853)]"
      ]
     },
     "execution_count": 10,
     "metadata": {},
     "output_type": "execute_result"
    }
   ],
   "source": [
    "model.wv.most_similar([\"nights\"])"
   ]
  },
  {
   "cell_type": "code",
   "execution_count": 11,
   "id": "motivated-classification",
   "metadata": {},
   "outputs": [
    {
     "data": {
      "text/plain": [
       "0.99995154"
      ]
     },
     "execution_count": 11,
     "metadata": {},
     "output_type": "execute_result"
    }
   ],
   "source": [
    "model.wv.n_similarity(['sushi', 'shop'], ['japanese', 'restaurant'])"
   ]
  },
  {
   "cell_type": "code",
   "execution_count": null,
   "id": "advance-malawi",
   "metadata": {},
   "outputs": [],
   "source": []
  }
 ],
 "metadata": {
  "kernelspec": {
   "display_name": "python_nlp_venv",
   "language": "python",
   "name": "python_nlp_venv"
  },
  "language_info": {
   "codemirror_mode": {
    "name": "ipython",
    "version": 3
   },
   "file_extension": ".py",
   "mimetype": "text/x-python",
   "name": "python",
   "nbconvert_exporter": "python",
   "pygments_lexer": "ipython3",
   "version": "3.8.3"
  }
 },
 "nbformat": 4,
 "nbformat_minor": 5
}
